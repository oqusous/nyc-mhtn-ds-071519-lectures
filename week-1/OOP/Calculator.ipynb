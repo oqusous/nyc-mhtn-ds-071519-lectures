{
 "cells": [
  {
   "cell_type": "code",
   "execution_count": null,
   "metadata": {},
   "outputs": [],
   "source": [
    "import math\n",
    "\n",
    "class Calculator:\n",
    "    def __init__(self, data):\n",
    "        self.data = data\n",
    "        self.update_status()\n",
    "    \n",
    "    def update_stats(self):\n",
    "        self.length = len(data)\n",
    "        self.mean = self.__calc_mean()\n",
    "        self.median = self.__calc_median()\n",
    "        self.variance = self.__calc_var()\n",
    "        self.standev = self.__calc_std()\n",
    "        \n",
    "    def __calc_mean(self):\n",
    "        mean = sum(self.data)/len(self.data)\n",
    "        return mean\n",
    "    \n",
    "    def __calc_median(self):\n",
    "        length = int(len(self.data))\n",
    "        half_length = int(length*0.5)\n",
    "        integer = int((half_length)+0.5)\n",
    "        if length%2 == 0:\n",
    "            median = (data[half_length]+data[half_length-1])/2\n",
    "        else:\n",
    "            median = data[integer]\n",
    "        return median\n",
    "    def __calc_var(self):\n",
    "        mean = self.mean\n",
    "        return sum([(x-mean)**2 for x in self.data])/(len(self.data)-1)\n",
    "     \n",
    "    def __calc_std(self):\n",
    "        self.update_stats\n",
    "        variance = calc_var(self.data)\n",
    "        return math.sqrt(variance)\n",
    "    \n",
    "\n"
   ]
  }
 ],
 "metadata": {
  "kernelspec": {
   "display_name": "Python 3",
   "language": "python",
   "name": "python3"
  },
  "language_info": {
   "codemirror_mode": {
    "name": "ipython",
    "version": 3
   },
   "file_extension": ".py",
   "mimetype": "text/x-python",
   "name": "python",
   "nbconvert_exporter": "python",
   "pygments_lexer": "ipython3",
   "version": "3.7.3"
  }
 },
 "nbformat": 4,
 "nbformat_minor": 2
}
