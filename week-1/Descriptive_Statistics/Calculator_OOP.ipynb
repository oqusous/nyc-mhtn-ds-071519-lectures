{
 "cells": [
  {
   "cell_type": "code",
   "execution_count": 38,
   "metadata": {},
   "outputs": [],
   "source": [
    "import numpy as np\n",
    "\n",
    "class Calculator:\n",
    "    \n",
    "    def __init__(self, data):\n",
    "        self.data = data\n",
    "        self.update_data() \n",
    "\n",
    "        \n",
    "    def update_data(self): \n",
    "        self.length = len(self.data)\n",
    "        self.mean = self.__calc_mean()\n",
    "        self.median = self.__calc_median()\n",
    "        self.variance = self.__calc_var()\n",
    "        self.standev = self.__calc_std()\n",
    "        \n",
    "        \n",
    "    def __repr__(self):\n",
    "        return self\n",
    "        \n",
    "        \n",
    "#for mean create a function for it too read\n",
    "       \n",
    "    def __calc_mean(self):\n",
    "        mean = sum(self.data)/len(self.data)\n",
    "        return mean\n",
    "#     returns the mean of the list \n",
    "\n",
    "    def __calc_median(self):\n",
    "        sorted_data = sorted(self.data)\n",
    "        length = int(len(sorted_data))\n",
    "        half_length = int(len(sorted_data)*0.5) \n",
    "        integer = int((half_length)+0.5)\n",
    "        if length % 2 == 0:\n",
    "            median = (sorted_data[half_length]+sorted_data[half_length-1])/2\n",
    "        else:\n",
    "            median = sorted_data[integer]\n",
    "        return median\n",
    "#     to calculate the median of the list.\n",
    "    \n",
    "    def __calc_var(self):\n",
    "        variance = np.var(self.data)\n",
    "        return variance\n",
    "#     to calculate the variance from the mean and length of the list.\n",
    "\n",
    "    def __calc_std(self):\n",
    "        std = np.std(self.data)\n",
    "        return std\n",
    "#     to calculate the standard deviation of the variance\n",
    "\n",
    "    def add_data(self, new_data):\n",
    "        self.data.extend(new_data)\n",
    "        self.update_data()\n",
    "        \n",
    "    def remove_data(self, old_data):\n",
    "        self.data.remove(old_data)\n",
    "        self.update_data()"
   ]
  },
  {
   "cell_type": "code",
   "execution_count": 65,
   "metadata": {},
   "outputs": [],
   "source": [
    "test = Calculator([2,3,4,6,7,8,10,40,40])"
   ]
  },
  {
   "cell_type": "code",
   "execution_count": 66,
   "metadata": {
    "scrolled": true
   },
   "outputs": [
    {
     "data": {
      "text/plain": [
       "[2, 3, 4, 6, 7, 8, 10, 40, 40]"
      ]
     },
     "execution_count": 66,
     "metadata": {},
     "output_type": "execute_result"
    }
   ],
   "source": [
    "test.data"
   ]
  },
  {
   "cell_type": "code",
   "execution_count": 67,
   "metadata": {},
   "outputs": [
    {
     "data": {
      "text/plain": [
       "14.445299120013633"
      ]
     },
     "execution_count": 67,
     "metadata": {},
     "output_type": "execute_result"
    }
   ],
   "source": [
    "test.standev"
   ]
  },
  {
   "cell_type": "code",
   "execution_count": 68,
   "metadata": {},
   "outputs": [],
   "source": [
    "test.remove_data(40)"
   ]
  },
  {
   "cell_type": "code",
   "execution_count": 69,
   "metadata": {},
   "outputs": [
    {
     "data": {
      "text/plain": [
       "[2, 3, 4, 6, 7, 8, 10, 40]"
      ]
     },
     "execution_count": 69,
     "metadata": {},
     "output_type": "execute_result"
    }
   ],
   "source": [
    "test.data"
   ]
  },
  {
   "cell_type": "code",
   "execution_count": 64,
   "metadata": {},
   "outputs": [
    {
     "data": {
      "text/plain": [
       "2.657296462534039"
      ]
     },
     "execution_count": 64,
     "metadata": {},
     "output_type": "execute_result"
    }
   ],
   "source": [
    "test.standev"
   ]
  },
  {
   "cell_type": "code",
   "execution_count": null,
   "metadata": {},
   "outputs": [],
   "source": []
  }
 ],
 "metadata": {
  "kernelspec": {
   "display_name": "Python 3",
   "language": "python",
   "name": "python3"
  },
  "language_info": {
   "codemirror_mode": {
    "name": "ipython",
    "version": 3
   },
   "file_extension": ".py",
   "mimetype": "text/x-python",
   "name": "python",
   "nbconvert_exporter": "python",
   "pygments_lexer": "ipython3",
   "version": "3.7.3"
  }
 },
 "nbformat": 4,
 "nbformat_minor": 2
}
